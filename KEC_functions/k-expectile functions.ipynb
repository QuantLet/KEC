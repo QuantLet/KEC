{
 "cells": [
  {
   "cell_type": "code",
   "execution_count": 2,
   "metadata": {},
   "outputs": [],
   "source": [
    "import pandas as pd\n",
    "from sklearn.cluster import KMeans\n",
    "import numpy as np\n",
    "import time\n",
    "import copy\n",
    "#from sklearn.decomposition import PCA\n",
    "#from sklearn.preprocessing import StandardScale"
   ]
  },
  {
   "cell_type": "code",
   "execution_count": 3,
   "metadata": {},
   "outputs": [],
   "source": [
    "# define Euclidian distance\n",
    "def dist(a, b):\n",
    "    return np.linalg.norm(a - b, None)"
   ]
  },
  {
   "cell_type": "code",
   "execution_count": 4,
   "metadata": {},
   "outputs": [],
   "source": [
    "# define tau distance between point a and centroid m\n",
    "# tau variate among different dimensions and different groups\n",
    "def dist_fun_vtau(a,m,tau):\n",
    "    dist = np.zeros(len(m))\n",
    "    for i in range(len(m)):\n",
    "        d = a - m[i]\n",
    "        ele = 0\n",
    "        for j in range(len(d)):\n",
    "            col = d[j]\n",
    "            ad = (1-tau[i,j])* sum(col[col<0]**2) + tau[i,j]* sum(col[col>=0]**2)\n",
    "            ele = ele + ad\n",
    "        dist[i] = ele\n",
    "    return dist"
   ]
  },
  {
   "cell_type": "code",
   "execution_count": null,
   "metadata": {},
   "outputs": [],
   "source": [
    "# define tau distance between point a and centroid m\n",
    "# uniform tau among groups, tau can be the same or different among dimensions\n",
    "def dist_fun_utau(a,m,tau):\n",
    "    dist = np.zeros(len(m))\n",
    "    for i in range(len(m)):\n",
    "        d = a - m[i]\n",
    "        ele = 0\n",
    "        for j in range(len(tau)):\n",
    "            col = d[j]\n",
    "            ad = (1-tau[j])* sum(col[col<0]**2) + tau[j]* sum(col[col>=0]**2)\n",
    "            ele = ele + ad\n",
    "        dist[i] = ele\n",
    "    return dist"
   ]
  },
  {
   "cell_type": "code",
   "execution_count": null,
   "metadata": {},
   "outputs": [],
   "source": [
    "# calculate expectile of a group\n",
    "def expectile_fun(group, tau):\n",
    "    e = np.mean(group, axis=0)\n",
    "    e_new = np.zeros(e.shape)\n",
    "    while dist(e_new , e) != 0:\n",
    "        c = group[:,:]- e\n",
    "        e = copy.deepcopy(e_new)\n",
    "        for i in range(len(c[0])):\n",
    "            d = c[:,i]\n",
    "            a_co = group[:,i]\n",
    "            neg = a_co[d<0]\n",
    "            pos = a_co[d>=0]\n",
    "            norm = tau[i]*len(pos)+ (1-tau[i])*len(neg)\n",
    "            e_new[i] = (tau[i]* sum(pos) + (1-tau[i])* sum(neg))/norm\n",
    "    return  e_new"
   ]
  },
  {
   "cell_type": "code",
   "execution_count": null,
   "metadata": {},
   "outputs": [],
   "source": [
    "# calculate tau\n",
    "def tau_fun(points, mu):\n",
    "    tau_list = []\n",
    "    dis = points - mu\n",
    "    for i in range(len(mu)):\n",
    "        res = dis[:,i]\n",
    "        e_neg = -sum(res[res < 0])/len(res[res < 0])\n",
    "        e_pos = sum(res[res >= 0])/len(res[res >= 0])\n",
    "        c = e_neg/e_pos\n",
    "        tau = c/(1+c)\n",
    "        tau_list.append(tau)\n",
    "    return tau_list"
   ]
  },
  {
   "cell_type": "code",
   "execution_count": null,
   "metadata": {},
   "outputs": [],
   "source": [
    "# K expectile clustering with pre-specified tau vector\n",
    "def k_expectile_utau(X, k, tau): \n",
    "    X = np.array(X)\n",
    "    kmeans = KMeans(n_clusters=k)\n",
    "    kmeans.fit(X)\n",
    "    C = kmeans.cluster_centers_\n",
    "\n",
    "# To store the value of centroids when it updates\n",
    "    C_old = np.zeros(C.shape)\n",
    "# Cluster Lables(0, 1, 2)\n",
    "    clusters = np.zeros(len(X))\n",
    "# Error func. - Distance between new centroids and old centroids\n",
    "    error = dist(C, C_old)\n",
    "# Loop will run till the error becomes zero\n",
    "    while error != 0:\n",
    "    # Assigning each value to its closest cluster\n",
    "        for i in range(len(X)):\n",
    "            distances = dist_fun_utau(X[i], C, tau)\n",
    "            cluster = np.argmin(distances)\n",
    "            clusters[i] = cluster\n",
    "    # Storing the old centroid values\n",
    "        C_old = copy.deepcopy(C)\n",
    "    # Finding the new centroids by taking the average value\n",
    "        for d in range(k):\n",
    "            points = [X[i] for i in range(len(X)) if clusters[i] == d]\n",
    "            points = np.array(points)\n",
    "            C[d] = expectile_fun(points,tau)\n",
    "        error = dist(C, C_old)\n",
    "    return C, clusters"
   ]
  },
  {
   "cell_type": "code",
   "execution_count": 5,
   "metadata": {},
   "outputs": [],
   "source": [
    "# K expectile clustering with unknown taus\n",
    "def k_expectile_vtau(X, k): \n",
    "    X = np.array(X)\n",
    "# Initialize cluster centers as K means cluster centers\n",
    "    kmeans = KMeans(n_clusters=k)\n",
    "    kmeans.fit(X)\n",
    "    C = kmeans.cluster_centers_\n",
    "\n",
    "# To store the value of centroids when it updates\n",
    "    C_old = np.zeros(C.shape)\n",
    "    clusters = np.zeros(len(X))\n",
    "# Initialize tau = 0.5\n",
    "    tau_list = np.ones((k, len(C[0])))*0.5\n",
    "# Error func. - Distance between new centroids and old centroids\n",
    "    error = dist(C, C_old)\n",
    "# Loop will run till the error \n",
    "    while error >= 0.05:\n",
    "    # Assigning each value to its closest cluster\n",
    "        for i in range(len(X)):\n",
    "            for j in range (len(C[0])):\n",
    "                distances = dist_fun_vtau(X[i], C, tau_list)\n",
    "                cluster = np.argmin(distances)\n",
    "                clusters[i] = cluster\n",
    "    # Storing the old centroid values\n",
    "        C_old = copy.deepcopy(C)\n",
    "    # Finding the new centroids and tau\n",
    "        for d in range(k):\n",
    "            points = [X[i] for i in range(len(X)) if clusters[i] == d]\n",
    "            points = np.array(points)\n",
    "    # Updating taus\n",
    "            tau = tau_fun(points,C[d])\n",
    "            C[d] = expectile_fun(points,tau)\n",
    "            tau_list[d] = tau\n",
    "        error = dist(C, C_old)\n",
    "        print(tau_list)\n",
    "        print(error)\n",
    "    return C, clusters"
   ]
  }
 ],
 "metadata": {
  "kernelspec": {
   "display_name": "Python 3",
   "language": "python",
   "name": "python3"
  },
  "language_info": {
   "codemirror_mode": {
    "name": "ipython",
    "version": 3
   },
   "file_extension": ".py",
   "mimetype": "text/x-python",
   "name": "python",
   "nbconvert_exporter": "python",
   "pygments_lexer": "ipython3",
   "version": "3.7.6"
  }
 },
 "nbformat": 4,
 "nbformat_minor": 2
}
