{
 "cells": [
  {
   "cell_type": "code",
   "execution_count": 2,
   "metadata": {},
   "outputs": [],
   "source": [
    "from sklearn import datasets\n",
    "import matplotlib.pyplot as plt\n",
    "import pandas as pd\n",
    "from sklearn.cluster import KMeans\n",
    "from mpl_toolkits import mplot3d\n",
    "import numpy as np\n",
    "import time\n",
    "import copy\n",
    "import math\n",
    "from sklearn.decomposition import PCA\n",
    "import itertools"
   ]
  },
  {
   "cell_type": "code",
   "execution_count": 3,
   "metadata": {},
   "outputs": [],
   "source": [
    "plt.rcParams['figure.figsize'] = (16, 9)\n",
    "plt.style.use('fast')"
   ]
  },
  {
   "cell_type": "code",
   "execution_count": 5,
   "metadata": {},
   "outputs": [],
   "source": [
    "n_samples = 1500\n",
    "blobs = datasets.make_blobs(n_samples=[500,500,500], random_state =3, cluster_std =[1.5,1.5,1.5])\n",
    "# Anisotropicly distributed data\n",
    "random_state = 1\n",
    "X, y = datasets.make_blobs(n_samples=n_samples, random_state=random_state)\n",
    "transformation = [[0.5, -0.6], [-0.4, 0.7]]\n",
    "X_aniso = np.dot(X, transformation)\n",
    "aniso = (X_aniso, y)\n",
    "#skewed norm"
   ]
  },
  {
   "cell_type": "code",
   "execution_count": 4,
   "metadata": {},
   "outputs": [],
   "source": [
    "#Euclidean distance\n",
    "def dist(a, b):\n",
    "    return np.linalg.norm(a - b, None)\n",
    "\n",
    "#Tau-distance\n",
    "def dist_fun_vtau(a,m,tau):\n",
    "    dist = np.zeros(len(m))\n",
    "    for i in range(len(m)):\n",
    "        d = a - m[i]\n",
    "        ele = 0\n",
    "        for j in range(len(d)):\n",
    "            col = d[j]\n",
    "            ad = (1-tau[i,j])* sum(col[col<0]**2) + tau[i,j]* sum(col[col>=0]**2)\n",
    "            ele = ele + ad\n",
    "        dist[i] = ele\n",
    "    return dist\n",
    "\n",
    "#Expectile estimation\n",
    "def expectile_fun(group, tau):\n",
    "    e = np.mean(group, axis=0)\n",
    "    e_new = np.zeros(e.shape)\n",
    "    while dist(e_new , e) != 0:\n",
    "        c = group[:,:]- e\n",
    "        e = copy.deepcopy(e_new)\n",
    "        for i in range(len(c[0])):\n",
    "            d = c[:,i]\n",
    "            a_co = group[:,i]\n",
    "            neg = a_co[d<0]\n",
    "            pos = a_co[d>=0]\n",
    "            norm = tau[i]*len(pos)+ (1-tau[i])*len(neg)\n",
    "            e_new[i] = (tau[i]* sum(pos) + (1-tau[i])* sum(neg))/norm\n",
    "    return  e_new\n",
    "\n",
    "#Estimate optimal taus\n",
    "def tau_fun(points, mu):\n",
    "    tau_list = []\n",
    "    dis = points - mu\n",
    "    for i in range(len(mu)):\n",
    "        res = dis[:,i]\n",
    "        e_neg = -sum(res[res < 0])/len(res[res < 0])\n",
    "        e_pos = sum(res[res >= 0])/len(res[res >= 0])\n",
    "        c = e_neg/e_pos\n",
    "        tau = c/(1+c)\n",
    "        tau_list.append(tau)\n",
    "    return tau_list"
   ]
  },
  {
   "cell_type": "code",
   "execution_count": 7,
   "metadata": {},
   "outputs": [],
   "source": [
    "# K expectile clustering with unknown taus\n",
    "def k_expectile_vtau(X, k): \n",
    "    X = np.array(X)\n",
    "# Initialize cluster centers as K means cluster centers\n",
    "    kmeans = KMeans(n_clusters=k)\n",
    "    kmeans.fit(X)\n",
    "    C = kmeans.cluster_centers_\n",
    "\n",
    "# To store the value of centroids when it updates\n",
    "    C_old = np.zeros(C.shape)\n",
    "    clusters = np.zeros(len(X))\n",
    "# Initialize tau = 0.5\n",
    "    tau_list = np.ones((k, len(C[0])))*0.5\n",
    "# Initialize var = var\n",
    "    var_list = np.zeros((k, len(C[0])))\n",
    "    for j in range(len(C[0])):\n",
    "        var_list[:,j] = np.var\n",
    "# Error func. - Distance between new centroids and old centroids\n",
    "    error = dist(C, C_old)\n",
    "# Loop will run till the error \n",
    "    while error >= 0.05:\n",
    "    # Assigning each value to its closest cluster\n",
    "        for i in range(len(X)):\n",
    "            for j in range (len(C[0])):\n",
    "                distances = dist_fun_vtau(X[i], C, tau_list)\n",
    "                cluster = np.argmin(distances)\n",
    "                clusters[i] = cluster\n",
    "    # Storing the old centroid values\n",
    "        C_old = copy.deepcopy(C)\n",
    "    # Finding the new centroids and tau\n",
    "        for d in range(k):\n",
    "            points = [X[i] for i in range(len(X)) if clusters[i] == d]\n",
    "            points = np.array(points)\n",
    "    # Updating taus\n",
    "            tau = tau_fun(points,C[d])\n",
    "            C[d] = expectile_fun(points,tau)\n",
    "            tau_list[d] = tau\n",
    "        error = dist(C, C_old)\n",
    "        print(tau_list)\n",
    "        print(error)\n",
    "    return C, clusters"
   ]
  },
  {
   "cell_type": "code",
   "execution_count": 6,
   "metadata": {},
   "outputs": [
    {
     "data": {
      "text/plain": [
       "9"
      ]
     },
     "execution_count": 6,
     "metadata": {},
     "output_type": "execute_result"
    }
   ],
   "source": [
    "p = [2,3,4]\n",
    "np.sum(p)"
   ]
  }
 ],
 "metadata": {
  "kernelspec": {
   "display_name": "Python 3",
   "language": "python",
   "name": "python3"
  },
  "language_info": {
   "codemirror_mode": {
    "name": "ipython",
    "version": 3
   },
   "file_extension": ".py",
   "mimetype": "text/x-python",
   "name": "python",
   "nbconvert_exporter": "python",
   "pygments_lexer": "ipython3",
   "version": "3.7.6"
  }
 },
 "nbformat": 4,
 "nbformat_minor": 2
}
